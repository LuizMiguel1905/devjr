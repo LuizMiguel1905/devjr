{
 "cells": [
  {
   "cell_type": "code",
   "execution_count": 1,
   "metadata": {},
   "outputs": [],
   "source": [
    "from arvore import Graph"
   ]
  },
  {
   "cell_type": "code",
   "execution_count": 2,
   "metadata": {},
   "outputs": [
    {
     "name": "stdout",
     "output_type": "stream",
     "text": [
      "Migty Strike : ('Migty Strike', 'Devastating Cleave')\n",
      "Devastating Cleave : ('Devastating Cleave', 'Barbaric Might')\n",
      "Cleave : ('Devastating Cleave', 'Cleave')\n",
      "Devastating Charge : ('Devastating Cleave', 'Migty Strike')\n",
      "Barbaric Might : ('Cleave', 'Devastating Strike')\n",
      "Devastating Strike : ('Cleave', 'Devastating Charge')\n",
      "Battle Axe Focus : ('Cleave', 'Devastating Cleave')\n",
      "Barsbaric Might : ('Devastating Charge', 'Cleave')\n",
      "Greatsword Focus : ('Barbaric Might', 'Devastating Strike')\n",
      "Warhammer Focus : ('Barbaric Might', 'Great Weapon Mastery')\n",
      "Great Weapon Mastery : ('Barbaric Might', 'Warhammer Focus')\n"
     ]
    }
   ],
   "source": [
    "adj = [\n",
    "    ('Migty Strike', 'Devastating Cleave'),\n",
    "    ('Devastating Cleave', 'Cleave'),\n",
    "    ('Cleave', 'Devastating Charge'),\n",
    "    ('Devastating Cleave', 'Barbaric Might'),\n",
    "    ('Cleave', 'Devastating Strike'),\n",
    "    ('Devastating Strike', 'Barbaric Might'),\n",
    "    ('Battle Axe Focus', 'Barsbaric Might'),\n",
    "    ('Greatsword Focus', 'Barbaric Might'),\n",
    "    ('Warhammer Focus', 'Barbaric Might'),\n",
    "    ('Barbaric Might', 'Great Weapon Mastery')]\n",
    "\n",
    "graph = Graph(adj)\n",
    "count = 0\n",
    "for x in graph.get_vertices():\n",
    "    print(x,':', graph.get_arestas()[count])\n",
    "    count += 1\n"
   ]
  }
 ],
 "metadata": {
  "interpreter": {
   "hash": "8d07b538f02c9bc50ecab863610162635752446da4c1a789b782240bc842d955"
  },
  "kernelspec": {
   "display_name": "Python 3.10.3 64-bit",
   "language": "python",
   "name": "python3"
  },
  "language_info": {
   "codemirror_mode": {
    "name": "ipython",
    "version": 3
   },
   "file_extension": ".py",
   "mimetype": "text/x-python",
   "name": "python",
   "nbconvert_exporter": "python",
   "pygments_lexer": "ipython3",
   "version": "3.10.3"
  },
  "orig_nbformat": 4
 },
 "nbformat": 4,
 "nbformat_minor": 2
}
