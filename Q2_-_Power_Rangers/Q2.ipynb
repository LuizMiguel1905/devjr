{
 "cells": [
  {
   "cell_type": "code",
   "execution_count": 1,
   "metadata": {},
   "outputs": [],
   "source": [
    "import pandas as pd"
   ]
  },
  {
   "cell_type": "code",
   "execution_count": 2,
   "metadata": {},
   "outputs": [
    {
     "data": {
      "text/html": [
       "<div>\n",
       "<style scoped>\n",
       "    .dataframe tbody tr th:only-of-type {\n",
       "        vertical-align: middle;\n",
       "    }\n",
       "\n",
       "    .dataframe tbody tr th {\n",
       "        vertical-align: top;\n",
       "    }\n",
       "\n",
       "    .dataframe thead th {\n",
       "        text-align: right;\n",
       "    }\n",
       "</style>\n",
       "<table border=\"1\" class=\"dataframe\">\n",
       "  <thead>\n",
       "    <tr style=\"text-align: right;\">\n",
       "      <th></th>\n",
       "      <th>id</th>\n",
       "      <th>season_title</th>\n",
       "      <th>season_num</th>\n",
       "      <th>number_of_episodes</th>\n",
       "      <th>air_date_first_ep</th>\n",
       "      <th>air_date_last_ep</th>\n",
       "      <th>producer</th>\n",
       "      <th>IMDB_rating</th>\n",
       "    </tr>\n",
       "  </thead>\n",
       "  <tbody>\n",
       "    <tr>\n",
       "      <th>0</th>\n",
       "      <td>6</td>\n",
       "      <td>In Space</td>\n",
       "      <td>6</td>\n",
       "      <td>43</td>\n",
       "      <td>1998-02-06</td>\n",
       "      <td>1998-11-21</td>\n",
       "      <td>Saban</td>\n",
       "      <td>7.3</td>\n",
       "    </tr>\n",
       "    <tr>\n",
       "      <th>1</th>\n",
       "      <td>9</td>\n",
       "      <td>Time Force</td>\n",
       "      <td>9</td>\n",
       "      <td>40</td>\n",
       "      <td>2001-02-03</td>\n",
       "      <td>2001-11-17</td>\n",
       "      <td>Saban</td>\n",
       "      <td>7.1</td>\n",
       "    </tr>\n",
       "    <tr>\n",
       "      <th>2</th>\n",
       "      <td>7</td>\n",
       "      <td>Lost Galaxy</td>\n",
       "      <td>7</td>\n",
       "      <td>45</td>\n",
       "      <td>1999-02-06</td>\n",
       "      <td>1999-12-18</td>\n",
       "      <td>Saban</td>\n",
       "      <td>6.9</td>\n",
       "    </tr>\n",
       "    <tr>\n",
       "      <th>3</th>\n",
       "      <td>12</td>\n",
       "      <td>Dino Thunder</td>\n",
       "      <td>12</td>\n",
       "      <td>38</td>\n",
       "      <td>2004-02-14</td>\n",
       "      <td>2004-11-20</td>\n",
       "      <td>Disney</td>\n",
       "      <td>6.8</td>\n",
       "    </tr>\n",
       "    <tr>\n",
       "      <th>4</th>\n",
       "      <td>26</td>\n",
       "      <td>Beast Morphers (Season 1)</td>\n",
       "      <td>26</td>\n",
       "      <td>22</td>\n",
       "      <td>2019-03-02</td>\n",
       "      <td>2019-12-14</td>\n",
       "      <td>Saban Brands</td>\n",
       "      <td>6.8</td>\n",
       "    </tr>\n",
       "  </tbody>\n",
       "</table>\n",
       "</div>"
      ],
      "text/plain": [
       "   id               season_title  season_num  number_of_episodes  \\\n",
       "0   6                   In Space           6                  43   \n",
       "1   9                 Time Force           9                  40   \n",
       "2   7                Lost Galaxy           7                  45   \n",
       "3  12               Dino Thunder          12                  38   \n",
       "4  26  Beast Morphers (Season 1)          26                  22   \n",
       "\n",
       "  air_date_first_ep air_date_last_ep      producer  IMDB_rating  \n",
       "0        1998-02-06       1998-11-21         Saban          7.3  \n",
       "1        2001-02-03       2001-11-17         Saban          7.1  \n",
       "2        1999-02-06       1999-12-18         Saban          6.9  \n",
       "3        2004-02-14       2004-11-20        Disney          6.8  \n",
       "4        2019-03-02       2019-12-14  Saban Brands          6.8  "
      ]
     },
     "execution_count": 2,
     "metadata": {},
     "output_type": "execute_result"
    }
   ],
   "source": [
    "seasonPw = pd.read_csv(\"seasons.csv\")\n",
    "\n",
    "seasonMedia = seasonPw.query('IMDB_rating > 6.5').sort_values(by=[\"IMDB_rating\"], \n",
    "ignore_index=True, \n",
    "ascending=False)\n",
    "\n",
    "\n",
    "seasonMedia.head(5)"
   ]
  }
 ],
 "metadata": {
  "interpreter": {
   "hash": "8d07b538f02c9bc50ecab863610162635752446da4c1a789b782240bc842d955"
  },
  "kernelspec": {
   "display_name": "Python 3.10.3 64-bit",
   "language": "python",
   "name": "python3"
  },
  "language_info": {
   "codemirror_mode": {
    "name": "ipython",
    "version": 3
   },
   "file_extension": ".py",
   "mimetype": "text/x-python",
   "name": "python",
   "nbconvert_exporter": "python",
   "pygments_lexer": "ipython3",
   "version": "3.10.3"
  },
  "orig_nbformat": 4
 },
 "nbformat": 4,
 "nbformat_minor": 2
}
